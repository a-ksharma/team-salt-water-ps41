{
 "cells": [
  {
   "cell_type": "code",
   "execution_count": 1,
   "id": "d4a2d5de",
   "metadata": {},
   "outputs": [],
   "source": [
    "import numpy as np\n",
    "import pandas as pd\n",
    "\n",
    "import matplotlib.pyplot as plt\n",
    "import seaborn as sns"
   ]
  },
  {
   "cell_type": "markdown",
   "id": "748a94e6",
   "metadata": {},
   "source": [
    "## Extracting Data from 'Aquaculture.csv'"
   ]
  },
  {
   "cell_type": "code",
   "execution_count": 2,
   "id": "33b21db3",
   "metadata": {},
   "outputs": [
    {
     "data": {
      "text/html": [
       "<div>\n",
       "<style scoped>\n",
       "    .dataframe tbody tr th:only-of-type {\n",
       "        vertical-align: middle;\n",
       "    }\n",
       "\n",
       "    .dataframe tbody tr th {\n",
       "        vertical-align: top;\n",
       "    }\n",
       "\n",
       "    .dataframe thead th {\n",
       "        text-align: right;\n",
       "    }\n",
       "</style>\n",
       "<table border=\"1\" class=\"dataframe\">\n",
       "  <thead>\n",
       "    <tr style=\"text-align: right;\">\n",
       "      <th></th>\n",
       "      <th>Land Area</th>\n",
       "      <th>Ocean Area</th>\n",
       "      <th>Environment</th>\n",
       "      <th>Species</th>\n",
       "      <th>Scientific name</th>\n",
       "    </tr>\n",
       "  </thead>\n",
       "  <tbody>\n",
       "    <tr>\n",
       "      <th>0</th>\n",
       "      <td>Africa</td>\n",
       "      <td>Inland waters</td>\n",
       "      <td>Brackishwater</td>\n",
       "      <td>Aquatic plants</td>\n",
       "      <td>Aquatic plants</td>\n",
       "    </tr>\n",
       "    <tr>\n",
       "      <th>1</th>\n",
       "      <td>Africa</td>\n",
       "      <td>Inland waters</td>\n",
       "      <td>Brackishwater</td>\n",
       "      <td>Crustaceans</td>\n",
       "      <td>Crustaceans</td>\n",
       "    </tr>\n",
       "    <tr>\n",
       "      <th>2</th>\n",
       "      <td>Africa</td>\n",
       "      <td>Inland waters</td>\n",
       "      <td>Brackishwater</td>\n",
       "      <td>Freshwater fishes</td>\n",
       "      <td>Freshwater fishes</td>\n",
       "    </tr>\n",
       "    <tr>\n",
       "      <th>3</th>\n",
       "      <td>Africa</td>\n",
       "      <td>Inland waters</td>\n",
       "      <td>Brackishwater</td>\n",
       "      <td>Diadromous fishes</td>\n",
       "      <td>Diadromous fishes</td>\n",
       "    </tr>\n",
       "    <tr>\n",
       "      <th>4</th>\n",
       "      <td>Africa</td>\n",
       "      <td>Inland waters</td>\n",
       "      <td>Brackishwater</td>\n",
       "      <td>Marine fishes</td>\n",
       "      <td>Marine fishes</td>\n",
       "    </tr>\n",
       "  </tbody>\n",
       "</table>\n",
       "</div>"
      ],
      "text/plain": [
       "  Land Area     Ocean Area    Environment            Species  \\\n",
       "0    Africa  Inland waters  Brackishwater     Aquatic plants   \n",
       "1    Africa  Inland waters  Brackishwater        Crustaceans   \n",
       "2    Africa  Inland waters  Brackishwater  Freshwater fishes   \n",
       "3    Africa  Inland waters  Brackishwater  Diadromous fishes   \n",
       "4    Africa  Inland waters  Brackishwater      Marine fishes   \n",
       "\n",
       "     Scientific name  \n",
       "0     Aquatic plants  \n",
       "1        Crustaceans  \n",
       "2  Freshwater fishes  \n",
       "3  Diadromous fishes  \n",
       "4      Marine fishes  "
      ]
     },
     "execution_count": 2,
     "metadata": {},
     "output_type": "execute_result"
    }
   ],
   "source": [
    "df = pd.read_csv('Aquaculture.csv', usecols=['Land Area', 'Ocean Area', 'Environment', 'Species', 'Scientific name'])\n",
    "df.head()"
   ]
  },
  {
   "cell_type": "code",
   "execution_count": 3,
   "id": "e1b9b889",
   "metadata": {},
   "outputs": [
    {
     "data": {
      "text/plain": [
       "(110, 5)"
      ]
     },
     "execution_count": 3,
     "metadata": {},
     "output_type": "execute_result"
    }
   ],
   "source": [
    "df.shape"
   ]
  },
  {
   "cell_type": "code",
   "execution_count": 4,
   "id": "d196ec17",
   "metadata": {},
   "outputs": [
    {
     "name": "stdout",
     "output_type": "stream",
     "text": [
      "<class 'pandas.core.frame.DataFrame'>\n",
      "RangeIndex: 110 entries, 0 to 109\n",
      "Data columns (total 5 columns):\n",
      " #   Column           Non-Null Count  Dtype \n",
      "---  ------           --------------  ----- \n",
      " 0   Land Area        110 non-null    object\n",
      " 1   Ocean Area       110 non-null    object\n",
      " 2   Environment      110 non-null    object\n",
      " 3   Species          110 non-null    object\n",
      " 4   Scientific name  110 non-null    object\n",
      "dtypes: object(5)\n",
      "memory usage: 4.4+ KB\n"
     ]
    }
   ],
   "source": [
    "df.info()"
   ]
  },
  {
   "cell_type": "code",
   "execution_count": 5,
   "id": "31feace5",
   "metadata": {},
   "outputs": [
    {
     "data": {
      "text/html": [
       "<div>\n",
       "<style scoped>\n",
       "    .dataframe tbody tr th:only-of-type {\n",
       "        vertical-align: middle;\n",
       "    }\n",
       "\n",
       "    .dataframe tbody tr th {\n",
       "        vertical-align: top;\n",
       "    }\n",
       "\n",
       "    .dataframe thead th {\n",
       "        text-align: right;\n",
       "    }\n",
       "</style>\n",
       "<table border=\"1\" class=\"dataframe\">\n",
       "  <thead>\n",
       "    <tr style=\"text-align: right;\">\n",
       "      <th></th>\n",
       "      <th>Land Area</th>\n",
       "      <th>Ocean Area</th>\n",
       "      <th>Environment</th>\n",
       "      <th>Species</th>\n",
       "      <th>Scientific name</th>\n",
       "    </tr>\n",
       "  </thead>\n",
       "  <tbody>\n",
       "    <tr>\n",
       "      <th>count</th>\n",
       "      <td>110</td>\n",
       "      <td>110</td>\n",
       "      <td>110</td>\n",
       "      <td>110</td>\n",
       "      <td>110</td>\n",
       "    </tr>\n",
       "    <tr>\n",
       "      <th>unique</th>\n",
       "      <td>5</td>\n",
       "      <td>2</td>\n",
       "      <td>3</td>\n",
       "      <td>8</td>\n",
       "      <td>8</td>\n",
       "    </tr>\n",
       "    <tr>\n",
       "      <th>top</th>\n",
       "      <td>Asia</td>\n",
       "      <td>Marine areas</td>\n",
       "      <td>Brackishwater</td>\n",
       "      <td>Crustaceans</td>\n",
       "      <td>Crustaceans</td>\n",
       "    </tr>\n",
       "    <tr>\n",
       "      <th>freq</th>\n",
       "      <td>27</td>\n",
       "      <td>64</td>\n",
       "      <td>46</td>\n",
       "      <td>19</td>\n",
       "      <td>19</td>\n",
       "    </tr>\n",
       "  </tbody>\n",
       "</table>\n",
       "</div>"
      ],
      "text/plain": [
       "       Land Area    Ocean Area    Environment      Species Scientific name\n",
       "count        110           110            110          110             110\n",
       "unique         5             2              3            8               8\n",
       "top         Asia  Marine areas  Brackishwater  Crustaceans     Crustaceans\n",
       "freq          27            64             46           19              19"
      ]
     },
     "execution_count": 5,
     "metadata": {},
     "output_type": "execute_result"
    }
   ],
   "source": [
    "df.describe()"
   ]
  },
  {
   "cell_type": "code",
   "execution_count": 6,
   "id": "394d6bd4",
   "metadata": {},
   "outputs": [
    {
     "data": {
      "text/plain": [
       "np.int64(0)"
      ]
     },
     "execution_count": 6,
     "metadata": {},
     "output_type": "execute_result"
    }
   ],
   "source": [
    "df.duplicated().sum()"
   ]
  },
  {
   "cell_type": "markdown",
   "id": "3801fe30",
   "metadata": {},
   "source": [
    "## Moving the cleaned data to a new file named as 'species.csv'"
   ]
  },
  {
   "cell_type": "code",
   "execution_count": 16,
   "id": "20874310",
   "metadata": {},
   "outputs": [],
   "source": [
    "temp = df[df['Land Area'] == 'Asia']\n",
    "temp = temp.reset_index()\n",
    "temp.drop(columns=['index'], inplace=True)"
   ]
  },
  {
   "cell_type": "code",
   "execution_count": 17,
   "id": "be95973f",
   "metadata": {},
   "outputs": [],
   "source": [
    "temp.to_csv(\"species.csv\")"
   ]
  },
  {
   "cell_type": "markdown",
   "id": "97f1876d",
   "metadata": {},
   "source": [
    "# Performing EDA over the extracted data"
   ]
  },
  {
   "cell_type": "markdown",
   "id": "2b8d50ee",
   "metadata": {},
   "source": [
    "## 1. Countplot"
   ]
  },
  {
   "cell_type": "code",
   "execution_count": null,
   "id": "f30432ea",
   "metadata": {},
   "outputs": [
    {
     "name": "stdout",
     "output_type": "stream",
     "text": [
      "<bound method IndexOpsMixin.value_counts of 0     Inland waters\n",
      "1     Inland waters\n",
      "2     Inland waters\n",
      "3     Inland waters\n",
      "4     Inland waters\n",
      "5     Inland waters\n",
      "6     Inland waters\n",
      "7     Inland waters\n",
      "8     Inland waters\n",
      "9     Inland waters\n",
      "10    Inland waters\n",
      "11    Inland waters\n",
      "12     Marine areas\n",
      "13     Marine areas\n",
      "14     Marine areas\n",
      "15     Marine areas\n",
      "16     Marine areas\n",
      "17     Marine areas\n",
      "18     Marine areas\n",
      "19     Marine areas\n",
      "20     Marine areas\n",
      "21     Marine areas\n",
      "22     Marine areas\n",
      "23     Marine areas\n",
      "24     Marine areas\n",
      "25     Marine areas\n",
      "26     Marine areas\n",
      "Name: Ocean Area, dtype: object>\n"
     ]
    },
    {
     "data": {
      "image/png": "[encoded data removed]",
      "text/plain": [
       "<Figure size 640x480 with 1 Axes>"
      ]
     },
     "metadata": {},
     "output_type": "display_data"
    }
   ],
   "source": [
    "sns.countplot(x='Ocean Area', data=temp)\n",
    "# temp['Ocean Area'].value_counts"
   ]
  },
  {
   "cell_type": "code",
   "execution_count": null,
   "id": "90483773",
   "metadata": {},
   "outputs": [
    {
     "data": {
      "text/plain": [
       "<bound method IndexOpsMixin.value_counts of 0     Brackishwater\n",
       "1     Brackishwater\n",
       "2     Brackishwater\n",
       "3     Brackishwater\n",
       "4        Freshwater\n",
       "5        Freshwater\n",
       "6        Freshwater\n",
       "7        Freshwater\n",
       "8        Freshwater\n",
       "9        Freshwater\n",
       "10       Freshwater\n",
       "11       Freshwater\n",
       "12    Brackishwater\n",
       "13    Brackishwater\n",
       "14    Brackishwater\n",
       "15    Brackishwater\n",
       "16    Brackishwater\n",
       "17    Brackishwater\n",
       "18    Brackishwater\n",
       "19           Marine\n",
       "20           Marine\n",
       "21           Marine\n",
       "22           Marine\n",
       "23           Marine\n",
       "24           Marine\n",
       "25           Marine\n",
       "26           Marine\n",
       "Name: Environment, dtype: object>"
      ]
     },
     "execution_count": 20,
     "metadata": {},
     "output_type": "execute_result"
    },
    {
     "data": {
      "image/png": "[encoded data removed]",
      "text/plain": [
       "<Figure size 640x480 with 1 Axes>"
      ]
     },
     "metadata": {},
     "output_type": "display_data"
    }
   ],
   "source": [
    "sns.countplot(x='Environment', data=temp)\n",
    "# temp['Environment'].value_counts"
   ]
  },
  {
   "cell_type": "markdown",
   "id": "fbb792fb",
   "metadata": {},
   "source": [
    "## 2. Piecharts"
   ]
  },
  {
   "cell_type": "code",
   "execution_count": 25,
   "id": "d0d4bbe6",
   "metadata": {},
   "outputs": [
    {
     "data": {
      "text/plain": [
       "<Axes: ylabel='count'>"
      ]
     },
     "execution_count": 25,
     "metadata": {},
     "output_type": "execute_result"
    },
    {
     "data": {
      "image/png": "[encoded data removed]",
      "text/plain": [
       "<Figure size 640x480 with 1 Axes>"
      ]
     },
     "metadata": {},
     "output_type": "display_data"
    }
   ],
   "source": [
    "temp['Species'].value_counts().plot(kind = 'pie', autopct = '% .2f')"
   ]
  },
  {
   "cell_type": "markdown",
   "id": "2192def4",
   "metadata": {},
   "source": [
    "## 3. Heatmap"
   ]
  },
  {
   "cell_type": "code",
   "execution_count": 39,
   "id": "8dae999c",
   "metadata": {},
   "outputs": [
    {
     "data": {
      "text/plain": [
       "<Axes: xlabel='Environment', ylabel='Ocean Area'>"
      ]
     },
     "execution_count": 39,
     "metadata": {},
     "output_type": "execute_result"
    },
    {
     "data": {
      "image/png": "[encoded data removed]",
      "text/plain": [
       "<Figure size 640x480 with 2 Axes>"
      ]
     },
     "metadata": {},
     "output_type": "display_data"
    }
   ],
   "source": [
    "sns.heatmap(pd.crosstab(temp['Ocean Area'], temp['Environment']))"
   ]
  },
  {
   "cell_type": "code",
   "execution_count": null,
   "id": "8eb3f0bb",
   "metadata": {},
   "outputs": [],
   "source": []
  }
 ],
 "metadata": {
  "kernelspec": {
   "display_name": "venv",
   "language": "python",
   "name": "python3"
  },
  "language_info": {
   "codemirror_mode": {
    "name": "ipython",
    "version": 3
   },
   "file_extension": ".py",
   "mimetype": "text/x-python",
   "name": "python",
   "nbconvert_exporter": "python",
   "pygments_lexer": "ipython3",
   "version": "3.13.5"
  }
 },
 "nbformat": 4,
 "nbformat_minor": 5
}
