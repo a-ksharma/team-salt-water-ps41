{
 "cells": [
  {
   "cell_type": "code",
   "execution_count": 2,
   "id": "d4a2d5de",
   "metadata": {},
   "outputs": [],
   "source": [
    "import numpy as np\n",
    "import pandas as pd\n",
    "\n",
    "import matplotlib.pyplot as plt\n",
    "import seaborn as sns"
   ]
  },
  {
   "cell_type": "code",
   "execution_count": 10,
   "id": "33b21db3",
   "metadata": {},
   "outputs": [
    {
     "data": {
      "text/html": [
       "<div>\n",
       "<style scoped>\n",
       "    .dataframe tbody tr th:only-of-type {\n",
       "        vertical-align: middle;\n",
       "    }\n",
       "\n",
       "    .dataframe tbody tr th {\n",
       "        vertical-align: top;\n",
       "    }\n",
       "\n",
       "    .dataframe thead th {\n",
       "        text-align: right;\n",
       "    }\n",
       "</style>\n",
       "<table border=\"1\" class=\"dataframe\">\n",
       "  <thead>\n",
       "    <tr style=\"text-align: right;\">\n",
       "      <th></th>\n",
       "      <th>Land Area</th>\n",
       "      <th>Ocean Area</th>\n",
       "      <th>Environment</th>\n",
       "      <th>Species</th>\n",
       "      <th>Scientific name</th>\n",
       "    </tr>\n",
       "  </thead>\n",
       "  <tbody>\n",
       "    <tr>\n",
       "      <th>0</th>\n",
       "      <td>Africa</td>\n",
       "      <td>Inland waters</td>\n",
       "      <td>Brackishwater</td>\n",
       "      <td>Aquatic plants</td>\n",
       "      <td>Aquatic plants</td>\n",
       "    </tr>\n",
       "    <tr>\n",
       "      <th>1</th>\n",
       "      <td>Africa</td>\n",
       "      <td>Inland waters</td>\n",
       "      <td>Brackishwater</td>\n",
       "      <td>Crustaceans</td>\n",
       "      <td>Crustaceans</td>\n",
       "    </tr>\n",
       "    <tr>\n",
       "      <th>2</th>\n",
       "      <td>Africa</td>\n",
       "      <td>Inland waters</td>\n",
       "      <td>Brackishwater</td>\n",
       "      <td>Freshwater fishes</td>\n",
       "      <td>Freshwater fishes</td>\n",
       "    </tr>\n",
       "    <tr>\n",
       "      <th>3</th>\n",
       "      <td>Africa</td>\n",
       "      <td>Inland waters</td>\n",
       "      <td>Brackishwater</td>\n",
       "      <td>Diadromous fishes</td>\n",
       "      <td>Diadromous fishes</td>\n",
       "    </tr>\n",
       "    <tr>\n",
       "      <th>4</th>\n",
       "      <td>Africa</td>\n",
       "      <td>Inland waters</td>\n",
       "      <td>Brackishwater</td>\n",
       "      <td>Marine fishes</td>\n",
       "      <td>Marine fishes</td>\n",
       "    </tr>\n",
       "  </tbody>\n",
       "</table>\n",
       "</div>"
      ],
      "text/plain": [
       "  Land Area     Ocean Area    Environment            Species  \\\n",
       "0    Africa  Inland waters  Brackishwater     Aquatic plants   \n",
       "1    Africa  Inland waters  Brackishwater        Crustaceans   \n",
       "2    Africa  Inland waters  Brackishwater  Freshwater fishes   \n",
       "3    Africa  Inland waters  Brackishwater  Diadromous fishes   \n",
       "4    Africa  Inland waters  Brackishwater      Marine fishes   \n",
       "\n",
       "     Scientific name  \n",
       "0     Aquatic plants  \n",
       "1        Crustaceans  \n",
       "2  Freshwater fishes  \n",
       "3  Diadromous fishes  \n",
       "4      Marine fishes  "
      ]
     },
     "execution_count": 10,
     "metadata": {},
     "output_type": "execute_result"
    }
   ],
   "source": [
    "df = pd.read_csv('Aquaculture.csv', usecols=['Land Area', 'Ocean Area', 'Environment', 'Species', 'Scientific name'])\n",
    "df.head()"
   ]
  },
  {
   "cell_type": "code",
   "execution_count": 11,
   "id": "e1b9b889",
   "metadata": {},
   "outputs": [
    {
     "data": {
      "text/plain": [
       "(110, 5)"
      ]
     },
     "execution_count": 11,
     "metadata": {},
     "output_type": "execute_result"
    }
   ],
   "source": [
    "df.shape"
   ]
  },
  {
   "cell_type": "code",
   "execution_count": 12,
   "id": "d196ec17",
   "metadata": {},
   "outputs": [
    {
     "name": "stdout",
     "output_type": "stream",
     "text": [
      "<class 'pandas.core.frame.DataFrame'>\n",
      "RangeIndex: 110 entries, 0 to 109\n",
      "Data columns (total 5 columns):\n",
      " #   Column           Non-Null Count  Dtype \n",
      "---  ------           --------------  ----- \n",
      " 0   Land Area        110 non-null    object\n",
      " 1   Ocean Area       110 non-null    object\n",
      " 2   Environment      110 non-null    object\n",
      " 3   Species          110 non-null    object\n",
      " 4   Scientific name  110 non-null    object\n",
      "dtypes: object(5)\n",
      "memory usage: 4.4+ KB\n"
     ]
    }
   ],
   "source": [
    "df.info()"
   ]
  },
  {
   "cell_type": "code",
   "execution_count": 13,
   "id": "31feace5",
   "metadata": {},
   "outputs": [
    {
     "data": {
      "text/html": [
       "<div>\n",
       "<style scoped>\n",
       "    .dataframe tbody tr th:only-of-type {\n",
       "        vertical-align: middle;\n",
       "    }\n",
       "\n",
       "    .dataframe tbody tr th {\n",
       "        vertical-align: top;\n",
       "    }\n",
       "\n",
       "    .dataframe thead th {\n",
       "        text-align: right;\n",
       "    }\n",
       "</style>\n",
       "<table border=\"1\" class=\"dataframe\">\n",
       "  <thead>\n",
       "    <tr style=\"text-align: right;\">\n",
       "      <th></th>\n",
       "      <th>Land Area</th>\n",
       "      <th>Ocean Area</th>\n",
       "      <th>Environment</th>\n",
       "      <th>Species</th>\n",
       "      <th>Scientific name</th>\n",
       "    </tr>\n",
       "  </thead>\n",
       "  <tbody>\n",
       "    <tr>\n",
       "      <th>count</th>\n",
       "      <td>110</td>\n",
       "      <td>110</td>\n",
       "      <td>110</td>\n",
       "      <td>110</td>\n",
       "      <td>110</td>\n",
       "    </tr>\n",
       "    <tr>\n",
       "      <th>unique</th>\n",
       "      <td>5</td>\n",
       "      <td>2</td>\n",
       "      <td>3</td>\n",
       "      <td>8</td>\n",
       "      <td>8</td>\n",
       "    </tr>\n",
       "    <tr>\n",
       "      <th>top</th>\n",
       "      <td>Asia</td>\n",
       "      <td>Marine areas</td>\n",
       "      <td>Brackishwater</td>\n",
       "      <td>Crustaceans</td>\n",
       "      <td>Crustaceans</td>\n",
       "    </tr>\n",
       "    <tr>\n",
       "      <th>freq</th>\n",
       "      <td>27</td>\n",
       "      <td>64</td>\n",
       "      <td>46</td>\n",
       "      <td>19</td>\n",
       "      <td>19</td>\n",
       "    </tr>\n",
       "  </tbody>\n",
       "</table>\n",
       "</div>"
      ],
      "text/plain": [
       "       Land Area    Ocean Area    Environment      Species Scientific name\n",
       "count        110           110            110          110             110\n",
       "unique         5             2              3            8               8\n",
       "top         Asia  Marine areas  Brackishwater  Crustaceans     Crustaceans\n",
       "freq          27            64             46           19              19"
      ]
     },
     "execution_count": 13,
     "metadata": {},
     "output_type": "execute_result"
    }
   ],
   "source": [
    "df.describe()"
   ]
  },
  {
   "cell_type": "code",
   "execution_count": 15,
   "id": "394d6bd4",
   "metadata": {},
   "outputs": [
    {
     "data": {
      "text/plain": [
       "np.int64(0)"
      ]
     },
     "execution_count": 15,
     "metadata": {},
     "output_type": "execute_result"
    }
   ],
   "source": [
    "df.duplicated().sum()"
   ]
  },
  {
   "cell_type": "code",
   "execution_count": 17,
   "id": "20874310",
   "metadata": {},
   "outputs": [],
   "source": [
    "temp = df[df['Land Area'] == 'Asia']"
   ]
  },
  {
   "cell_type": "code",
   "execution_count": 18,
   "id": "be95973f",
   "metadata": {},
   "outputs": [],
   "source": [
    "temp.to_csv(\"Aqua.csv\")"
   ]
  },
  {
   "cell_type": "code",
   "execution_count": null,
   "id": "f30432ea",
   "metadata": {},
   "outputs": [],
   "source": []
  }
 ],
 "metadata": {
  "kernelspec": {
   "display_name": "venv",
   "language": "python",
   "name": "python3"
  },
  "language_info": {
   "codemirror_mode": {
    "name": "ipython",
    "version": 3
   },
   "file_extension": ".py",
   "mimetype": "text/x-python",
   "name": "python",
   "nbconvert_exporter": "python",
   "pygments_lexer": "ipython3",
   "version": "3.13.5"
  }
 },
 "nbformat": 4,
 "nbformat_minor": 5
}
